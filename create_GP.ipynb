{
 "cells": [
  {
   "cell_type": "code",
   "execution_count": 1,
   "metadata": {},
   "outputs": [],
   "source": [
    "import pandas"
   ]
  },
  {
   "cell_type": "code",
   "execution_count": 3,
   "metadata": {},
   "outputs": [
    {
     "data": {
      "text/html": [
       "<div>\n",
       "<style>\n",
       "    .dataframe thead tr:only-child th {\n",
       "        text-align: right;\n",
       "    }\n",
       "\n",
       "    .dataframe thead th {\n",
       "        text-align: left;\n",
       "    }\n",
       "\n",
       "    .dataframe tbody tr th {\n",
       "        vertical-align: top;\n",
       "    }\n",
       "</style>\n",
       "<table border=\"1\" class=\"dataframe\">\n",
       "  <thead>\n",
       "    <tr style=\"text-align: right;\">\n",
       "      <th></th>\n",
       "      <th>Unnamed: 0</th>\n",
       "      <th>Unnamed: 0.1</th>\n",
       "      <th>Pathway</th>\n",
       "      <th>Pathway_name</th>\n",
       "      <th>Step</th>\n",
       "      <th>Product</th>\n",
       "      <th>Metacyc</th>\n",
       "      <th>Author</th>\n",
       "      <th>EC</th>\n",
       "      <th>Enzyme_name</th>\n",
       "      <th>...</th>\n",
       "      <th>pfam_curated</th>\n",
       "      <th>Note_integration</th>\n",
       "      <th>Interpro_metacyc_link (automatic?)</th>\n",
       "      <th>Pfam_metacyc_link</th>\n",
       "      <th>Interpro_pre</th>\n",
       "      <th>Pfam_pre</th>\n",
       "      <th>interpro_name_pre</th>\n",
       "      <th>Status_pre</th>\n",
       "      <th>Unnamed: 21</th>\n",
       "      <th>notes</th>\n",
       "    </tr>\n",
       "  </thead>\n",
       "  <tbody>\n",
       "    <tr>\n",
       "      <th>0</th>\n",
       "      <td>0</td>\n",
       "      <td>0</td>\n",
       "      <td>6.0</td>\n",
       "      <td>Bifidobacterium shunt</td>\n",
       "      <td>1.0</td>\n",
       "      <td>Acetate</td>\n",
       "      <td>P124-PWY</td>\n",
       "      <td>Pellegrini-Toole A, Caspi R</td>\n",
       "      <td>2.7.1.1/2.7.1.2</td>\n",
       "      <td>Hexokinase / glucokinase</td>\n",
       "      <td>...</td>\n",
       "      <td>NA / PF00480</td>\n",
       "      <td>NaN</td>\n",
       "      <td>NaN</td>\n",
       "      <td>NaN</td>\n",
       "      <td>IPR001312/IPR003836</td>\n",
       "      <td>NA/PF02685</td>\n",
       "      <td>Hexokinase/Glucokinase</td>\n",
       "      <td>checked</td>\n",
       "      <td>NaN</td>\n",
       "      <td>NaN</td>\n",
       "    </tr>\n",
       "    <tr>\n",
       "      <th>1</th>\n",
       "      <td>1</td>\n",
       "      <td>1</td>\n",
       "      <td>6.0</td>\n",
       "      <td>Bifidobacterium shunt</td>\n",
       "      <td>2.0</td>\n",
       "      <td>Acetate</td>\n",
       "      <td>P124-PWY</td>\n",
       "      <td>Pellegrini-Toole A, Caspi R</td>\n",
       "      <td>5.3.1.9</td>\n",
       "      <td>glucose-6-phosphate isomerase</td>\n",
       "      <td>...</td>\n",
       "      <td>PF00342</td>\n",
       "      <td>NaN</td>\n",
       "      <td>NaN</td>\n",
       "      <td>NaN</td>\n",
       "      <td>IPR001672</td>\n",
       "      <td>NaN</td>\n",
       "      <td>Phosphoglucose isomerase</td>\n",
       "      <td>checked</td>\n",
       "      <td>NaN</td>\n",
       "      <td>NaN</td>\n",
       "    </tr>\n",
       "    <tr>\n",
       "      <th>2</th>\n",
       "      <td>2</td>\n",
       "      <td>2</td>\n",
       "      <td>6.0</td>\n",
       "      <td>Bifidobacterium shunt</td>\n",
       "      <td>3.0</td>\n",
       "      <td>Acetate</td>\n",
       "      <td>P124-PWY</td>\n",
       "      <td>Pellegrini-Toole A, Caspi R</td>\n",
       "      <td>4.1.2.22</td>\n",
       "      <td>D-xylulose 5-phosphate phosphoketolase / D-fru...</td>\n",
       "      <td>...</td>\n",
       "      <td>PF03894</td>\n",
       "      <td>NaN</td>\n",
       "      <td>NaN</td>\n",
       "      <td>NaN</td>\n",
       "      <td>IPR005593</td>\n",
       "      <td>PF03894</td>\n",
       "      <td>Xylulose 5-phosphate/Fructose 6-phosphate phos...</td>\n",
       "      <td>checked</td>\n",
       "      <td>NaN</td>\n",
       "      <td>NaN</td>\n",
       "    </tr>\n",
       "    <tr>\n",
       "      <th>3</th>\n",
       "      <td>3</td>\n",
       "      <td>3</td>\n",
       "      <td>6.0</td>\n",
       "      <td>Bifidobacterium shunt</td>\n",
       "      <td>4.0</td>\n",
       "      <td>Acetate</td>\n",
       "      <td>P124-PWY</td>\n",
       "      <td>Pellegrini-Toole A, Caspi R</td>\n",
       "      <td>2.7.2.1/2.7.2.15</td>\n",
       "      <td>acetate kinase / propionate kinase</td>\n",
       "      <td>...</td>\n",
       "      <td>PF00871</td>\n",
       "      <td>NaN</td>\n",
       "      <td>NaN</td>\n",
       "      <td>NaN</td>\n",
       "      <td>IPR004372/IPR004372</td>\n",
       "      <td>NaN</td>\n",
       "      <td>Acetate/propionate kinase /</td>\n",
       "      <td>NaN</td>\n",
       "      <td>NaN</td>\n",
       "      <td>NaN</td>\n",
       "    </tr>\n",
       "  </tbody>\n",
       "</table>\n",
       "<p>4 rows × 25 columns</p>\n",
       "</div>"
      ],
      "text/plain": [
       "   Unnamed: 0  Unnamed: 0.1  Pathway           Pathway_name  Step  Product  \\\n",
       "0           0             0      6.0  Bifidobacterium shunt   1.0  Acetate   \n",
       "1           1             1      6.0  Bifidobacterium shunt   2.0  Acetate   \n",
       "2           2             2      6.0  Bifidobacterium shunt   3.0  Acetate   \n",
       "3           3             3      6.0  Bifidobacterium shunt   4.0  Acetate   \n",
       "\n",
       "    Metacyc                       Author                EC  \\\n",
       "0  P124-PWY  Pellegrini-Toole A, Caspi R   2.7.1.1/2.7.1.2   \n",
       "1  P124-PWY  Pellegrini-Toole A, Caspi R           5.3.1.9   \n",
       "2  P124-PWY  Pellegrini-Toole A, Caspi R          4.1.2.22   \n",
       "3  P124-PWY  Pellegrini-Toole A, Caspi R  2.7.2.1/2.7.2.15   \n",
       "\n",
       "                                         Enzyme_name  ...   pfam_curated  \\\n",
       "0                           Hexokinase / glucokinase  ...   NA / PF00480   \n",
       "1                      glucose-6-phosphate isomerase  ...        PF00342   \n",
       "2  D-xylulose 5-phosphate phosphoketolase / D-fru...  ...        PF03894   \n",
       "3                 acetate kinase / propionate kinase  ...        PF00871   \n",
       "\n",
       "  Note_integration Interpro_metacyc_link (automatic?) Pfam_metacyc_link  \\\n",
       "0              NaN                                NaN               NaN   \n",
       "1              NaN                                NaN               NaN   \n",
       "2              NaN                                NaN               NaN   \n",
       "3              NaN                                NaN               NaN   \n",
       "\n",
       "          Interpro_pre    Pfam_pre  \\\n",
       "0  IPR001312/IPR003836  NA/PF02685   \n",
       "1            IPR001672         NaN   \n",
       "2            IPR005593     PF03894   \n",
       "3  IPR004372/IPR004372         NaN   \n",
       "\n",
       "                                   interpro_name_pre  Status_pre  Unnamed: 21  \\\n",
       "0                             Hexokinase/Glucokinase     checked          NaN   \n",
       "1                           Phosphoglucose isomerase     checked          NaN   \n",
       "2  Xylulose 5-phosphate/Fructose 6-phosphate phos...     checked          NaN   \n",
       "3                       Acetate/propionate kinase /          NaN          NaN   \n",
       "\n",
       "  notes  \n",
       "0   NaN  \n",
       "1   NaN  \n",
       "2   NaN  \n",
       "3   NaN  \n",
       "\n",
       "[4 rows x 25 columns]"
      ]
     },
     "execution_count": 3,
     "metadata": {},
     "output_type": "execute_result"
    }
   ],
   "source": [
    "df = pandas.read_csv(\"./gp_single_path/gp_6_1.csv\")\n",
    "df"
   ]
  },
  {
   "cell_type": "code",
   "execution_count": 21,
   "metadata": {},
   "outputs": [
    {
     "data": {
      "text/plain": [
       "'IPR001312/ IPR000600, IPR004654'"
      ]
     },
     "execution_count": 21,
     "metadata": {},
     "output_type": "execute_result"
    }
   ],
   "source": [
    "df.interpro_curated_id[0]"
   ]
  },
  {
   "cell_type": "code",
   "execution_count": 25,
   "metadata": {},
   "outputs": [],
   "source": [
    "w = open(\"gp_DESC_6_1\", \"a+\")\n",
    "w.write(\"AC\" + \"\\t\" + \"GenProp_jl6_1\" +\"\\n\" +\n",
    "       \"DE\" + \"\\t\" + df.Pathway_name[0] + \"\\n\" +\n",
    "       \"TP\" + \"\\t\" + \"PATHWAY\" + \"\\n\" +\n",
    "       \"AU\" + \"\\t\" + df.Author[0] + \"\\n\" +\n",
    "       \"TH\" + \"\\t\" + \"0\" + \"\\n\" +\n",
    "       \"DC\" + \"\\t\" + df.Pathway_name[0] + \"\\n\" + \n",
    "       \"DR\" + \"\\t\" + \"MetaCyc; \"+ df.Metacyc[0] + \";\" + \"\\n\" +\n",
    "       \"CC\" + \"\\t\" + \"This property has been automatically generated from MetaCyc and has not\" + \"\\n\" +\n",
    "       \"CC\" + \"\\t\" + \"been manually verified to check the validity of the InterPro signatures\" + \"\\n\" +\n",
    "       \"CC\" + \"\\t\" + \"used for the evidence. See MetaCyc for additional information and\" + \"\\n\" +\n",
    "       \"CC\" + \"\\t\" + \"references relating to this property.\" + \"\\n\" )\n",
    "for i in range(len(list(df.Step))):\n",
    "    w.write( \"--\" + \"\\n\"\n",
    "       \"SN\" + \"\\t\" + str(i+1) + \"\\n\" + \n",
    "       \"ID\" + \"\\t\" + df.Enzyme_name[i] + \"\\n\" + \n",
    "       \"DN\" + \"\\t\" + df.Enzyme_name[i] + \" (\" + df.EC[i] + \")\" + \"\\n\" + \n",
    "    \"RQ\" + \"\\t\" + \"1\" + \"\\n\" + \n",
    "    \"EV\" + \"\\t\" + df.interpro_curated_id[i] + \"; sufficient;\" + \"\\n\" +\n",
    "    \"EV\" + \"\\t\" + df.pfam_curated_id[i] + \"; sufficient;\" + \"\\n\")"
   ]
  },
  {
   "cell_type": "code",
   "execution_count": 2,
   "metadata": {},
   "outputs": [],
   "source": [
    "def create_gp(df,w,gp_name):\n",
    "    w.write(\"AC\" + \"  \" + \"GenProp_\" + gp_name +\"\\n\" +\n",
    "       \"DE\" + \"  \" + df.Pathway_name[0] + \"\\n\" +\n",
    "       \"TP\" + \"  \" + \"PATHWAY\" + \"\\n\" +\n",
    "       \"AU\" + \"  \" + df.Author[0] + \"\\n\" +\n",
    "       \"TH\" + \"  \" + \"0\" + \"\\n\" +\n",
    "       \"DC\" + \"  \" + df.Pathway_name[0] + \"\\n\" + \n",
    "       \"DR\" + \"  \" + \"MetaCyc; \"+ df.Metacyc[0] + \";\" + \"\\n\" +\n",
    "       \"CC\" + \"  \" + \"This property has been automatically generated from MetaCyc and has not\" + \"\\n\" +\n",
    "       \"CC\" + \"  \" + \"been manually verified to check the validity of the InterPro signatures\" + \"\\n\" +\n",
    "       \"CC\" + \"  \" + \"used for the evidence. See MetaCyc for additional information and\" + \"\\n\" +\n",
    "       \"CC\" + \"  \" + \"references relating to this property.\" + \"\\n\" )\n",
    "    for i in range(len(list(df.Step))):\n",
    "        w.write( \"--\" + \"\\n\"\n",
    "           \"SN\" + \"  \" + str(i+1) + \"\\n\" + \n",
    "           \"ID\" + \"  \" + str(df.Enzyme_name[i]) + \"\\n\" + \n",
    "           \"DN\" + \"  \" + str(df.Enzyme_name[i]) + \" (\" + str(df.EC[i]) + \")\" + \"\\n\" + \n",
    "        \"RQ\" + \"  \" + \"1\" + \"\\n\" + \n",
    "        \"EV\" + \"  \" + str(df.interpro_curated_id[i]) + \"; sufficient;\" + \"\\n\" +\n",
    "        \"EV\" + \"  \" + str(df.pfam_curated_id[i]) + \"; sufficient;\" + \"\\n\")\n",
    "    "
   ]
  },
  {
   "cell_type": "code",
   "execution_count": 38,
   "metadata": {},
   "outputs": [
    {
     "data": {
      "text/plain": [
       "'nan'"
      ]
     },
     "execution_count": 38,
     "metadata": {},
     "output_type": "execute_result"
    }
   ],
   "source": [
    "f = \"./gp_single_path/gp_7_1.csv\"\n",
    "df = pandas.read_csv(f)\n",
    "str(df.pfam_curated_id[0])"
   ]
  },
  {
   "cell_type": "code",
   "execution_count": 42,
   "metadata": {},
   "outputs": [],
   "source": [
    "w_file_name = \"gp_DESC_7_1\"\n",
    "w = open(w_file_name, \"a+\")\n",
    "gp_name = \"GenProp_jl_\" + i\n",
    "create_gp(df,w,gp_name)\n",
    "    "
   ]
  },
  {
   "cell_type": "code",
   "execution_count": 4,
   "metadata": {},
   "outputs": [],
   "source": [
    "for i in [\"8_2\"]:\n",
    "    f = \"./gp_single_path/gp_\" + i + \".csv\" \n",
    "    #print(f)\n",
    "    df = pandas.read_csv(f)\n",
    "    w_file_name = \"./DESC/gp_DESC_\" + i\n",
    "#    print(w_file_name)\n",
    "    w = open(w_file_name, \"a+\")\n",
    "    gp_name = \"GenProp_jl_\" + i\n",
    "    create_gp(df,w,gp_name)\n",
    "    "
   ]
  },
  {
   "cell_type": "code",
   "execution_count": 46,
   "metadata": {},
   "outputs": [],
   "source": [
    "import os"
   ]
  },
  {
   "cell_type": "code",
   "execution_count": null,
   "metadata": {},
   "outputs": [],
   "source": []
  }
 ],
 "metadata": {
  "kernelspec": {
   "display_name": "Python 3",
   "language": "python",
   "name": "python3"
  },
  "language_info": {
   "codemirror_mode": {
    "name": "ipython",
    "version": 3
   },
   "file_extension": ".py",
   "mimetype": "text/x-python",
   "name": "python",
   "nbconvert_exporter": "python",
   "pygments_lexer": "ipython3",
   "version": "3.6.8"
  }
 },
 "nbformat": 4,
 "nbformat_minor": 2
}
